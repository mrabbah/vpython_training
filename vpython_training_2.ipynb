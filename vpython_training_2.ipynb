{
 "cells": [
  {
   "cell_type": "markdown",
   "metadata": {},
   "source": [
    "# Water drops\n",
    "\n",
    "I really wanted to think in terms of rain drops rather than balls. So instead of bouncing, I want things to go splat. The splat is, however, utterly artificial and doesn't capture any of the real behavior of a drop of liquid hitting a solid."
   ]
  },
  {
   "cell_type": "code",
   "execution_count": 1,
   "metadata": {},
   "outputs": [
    {
     "data": {
      "application/javascript": [
       "require.undef(\"nbextensions/vpython_libraries/glow.min\");"
      ],
      "text/plain": [
       "<IPython.core.display.Javascript object>"
      ]
     },
     "metadata": {},
     "output_type": "display_data"
    },
    {
     "data": {
      "application/javascript": [
       "require.undef(\"nbextensions/vpython_libraries/glowcomm\");"
      ],
      "text/plain": [
       "<IPython.core.display.Javascript object>"
      ]
     },
     "metadata": {},
     "output_type": "display_data"
    },
    {
     "data": {
      "application/javascript": [
       "require.undef(\"nbextensions/vpython_libraries/jquery-ui.custom.min\");"
      ],
      "text/plain": [
       "<IPython.core.display.Javascript object>"
      ]
     },
     "metadata": {},
     "output_type": "display_data"
    },
    {
     "data": {
      "application/javascript": [
       "require([\"nbextensions/vpython_libraries/glow.min\"], function(){console.log(\"GLOW LOADED\");})"
      ],
      "text/plain": [
       "<IPython.core.display.Javascript object>"
      ]
     },
     "metadata": {},
     "output_type": "display_data"
    },
    {
     "data": {
      "application/javascript": [
       "require([\"nbextensions/vpython_libraries/glowcomm\"], function(){console.log(\"GLOWCOMM LOADED\");})"
      ],
      "text/plain": [
       "<IPython.core.display.Javascript object>"
      ]
     },
     "metadata": {},
     "output_type": "display_data"
    },
    {
     "data": {
      "application/javascript": [
       "require([\"nbextensions/vpython_libraries/jquery-ui.custom.min\"], function(){console.log(\"JQUERY LOADED\");})"
      ],
      "text/plain": [
       "<IPython.core.display.Javascript object>"
      ]
     },
     "metadata": {},
     "output_type": "display_data"
    },
    {
     "data": {
      "text/html": [
       "<div id=\"glowscript\" class=\"glowscript\"></div>"
      ],
      "text/plain": [
       "<IPython.core.display.HTML object>"
      ]
     },
     "metadata": {},
     "output_type": "display_data"
    },
    {
     "data": {
      "application/javascript": [
       "window.__context = { glowscript_container: $(\"#glowscript\").removeAttr(\"id\")}"
      ],
      "text/plain": [
       "<IPython.core.display.Javascript object>"
      ]
     },
     "metadata": {},
     "output_type": "display_data"
    }
   ],
   "source": [
    "from vpython import *"
   ]
  },
  {
   "cell_type": "code",
   "execution_count": 2,
   "metadata": {},
   "outputs": [],
   "source": [
    "Ndrops = 10\n",
    "toggle = 0  # 0 makes all drops the same mass; 1 makes all drops the same density\n",
    "power = 2\n",
    "constant = .5\n",
    "dropheight = 4\n",
    "dt = 0.01"
   ]
  },
  {
   "cell_type": "code",
   "execution_count": 3,
   "metadata": {},
   "outputs": [
    {
     "data": {
      "text/html": [
       "<div id=\"glowscript\" class=\"glowscript\"></div>"
      ],
      "text/plain": [
       "<IPython.core.display.HTML object>"
      ]
     },
     "metadata": {},
     "output_type": "display_data"
    },
    {
     "data": {
      "application/javascript": [
       "window.__context = { glowscript_container: $(\"#glowscript\").removeAttr(\"id\")}"
      ],
      "text/plain": [
       "<IPython.core.display.Javascript object>"
      ]
     },
     "metadata": {},
     "output_type": "display_data"
    }
   ],
   "source": [
    "scene2=canvas(title=\"Water drops scene\")\n",
    "floor = box(length=8, height=0.5, width=8, pos=vector(0,-dropheight,0), color=color.blue)"
   ]
  },
  {
   "cell_type": "markdown",
   "metadata": {},
   "source": [
    "![Result ScreenShot](vpython_training_screenshot_part2.png)"
   ]
  },
  {
   "cell_type": "code",
   "execution_count": 7,
   "metadata": {},
   "outputs": [],
   "source": [
    "import random\n",
    "Drops = []\n",
    "\n",
    "for i in range(Ndrops):        # create drops of various sizes at rest at common height\n",
    "\tsize = random.uniform(0.1,1)\n",
    "\tDrops = Drops + [ellipsoid(length = size, width = size, height = size, color=color.red)]\n",
    "\tDrops[i].velocity = vector(0,0,0)\n",
    "\tDrops[i].acceleration = vector(0,9.8,0)\n",
    "\tDrops[i].pos = vector(random.uniform(-3.5,3.5),dropheight,random.uniform(-3.5,3.5))"
   ]
  },
  {
   "cell_type": "code",
   "execution_count": null,
   "metadata": {},
   "outputs": [],
   "source": [
    "import numpy as np\n",
    "#scene.mouse.getclick()          # hold the drops until we're ready to drop them\n",
    "\t\n",
    "while 1:\n",
    "    rate(100)\n",
    "    for i in range(Ndrops):                                 # let all the drops fall\n",
    "\t\tDrops[i].pos = Drops[i].pos + Drops[i].velocity*dt\n",
    "\t\tif Drops[i].pos.y < -dropheight + Drops[i].height + 0.5:        # check for drops hitting surface\n",
    "\t\t\tif Drops[i].height > 0.09:                     # only worry about drops that haven't already gone splat\n",
    "\t\t\t\tDrops[i].velocity.y = 0                   # drops stop\n",
    "\t\t\t\t# drops flatten on surface\n",
    "\t\t\t\tDrops[i].height = 0.09\n",
    "\t\t\t\tDrops[i].length = Drops[i].width = Drops[i].width**(3.0/2)\n",
    "\t\t\t\tDrops[i].pos.y = -dropheight + 0.5\t\t\t\t\t\n",
    "\t\telse:\n",
    "\t\t    Drops[i].velocity.y = Drops[i].velocity.y + Drops[i].acceleration.y*dt\n",
    "\t\t    volume = Drops[i].width**2 * Drops[i].height\n",
    "\t\t    accel = np.sign(Drops[i].velocity.y) * constant*Drops[i].width**2*Drops[i].velocity.y**power / (volume)**toggle\n",
    "\t\t    Drops[i].acceleration.y = -9.8 - accel\n"
   ]
  },
  {
   "cell_type": "code",
   "execution_count": null,
   "metadata": {},
   "outputs": [],
   "source": []
  }
 ],
 "metadata": {
  "kernelspec": {
   "display_name": "VPython",
   "language": "python",
   "name": "vpython"
  },
  "language_info": {
   "codemirror_mode": {
    "name": "ipython",
    "version": 2
   },
   "file_extension": ".py",
   "mimetype": "text/x-python",
   "name": "python",
   "nbconvert_exporter": "python",
   "pygments_lexer": "ipython2",
   "version": "2.7.12"
  }
 },
 "nbformat": 4,
 "nbformat_minor": 2
}
